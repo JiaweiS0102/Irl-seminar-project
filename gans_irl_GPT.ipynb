{
  "nbformat": 4,
  "nbformat_minor": 0,
  "metadata": {
    "colab": {
      "provenance": []
    },
    "kernelspec": {
      "name": "python3",
      "display_name": "Python 3"
    },
    "language_info": {
      "name": "python"
    }
  },
  "cells": [
    {
      "cell_type": "markdown",
      "source": [],
      "metadata": {
        "id": "7K_sKakGttL-"
      }
    },
    {
      "cell_type": "markdown",
      "source": [
        "## 1. Data Preparation."
      ],
      "metadata": {
        "id": "DXcg7a3-tuVj"
      }
    },
    {
      "cell_type": "markdown",
      "source": [
        "**Objective:** Select and prepare a dataset suitable for image classification.\n"
      ],
      "metadata": {
        "id": "nOqhm4wVt76s"
      }
    },
    {
      "cell_type": "markdown",
      "source": [
        "**Implementation Steps:**\n",
        "\n",
        "-Use Python libraries such as torchvision for dataset preparation.\n",
        "\n",
        "-Split the dataset into training, validation and test sets."
      ],
      "metadata": {
        "id": "8DuNkhlZvJGw"
      }
    },
    {
      "cell_type": "markdown",
      "source": [
        "**Code example**"
      ],
      "metadata": {
        "id": "TmjPlZ6MvWqv"
      }
    },
    {
      "cell_type": "code",
      "source": [
        "import torchvision.transforms as transforms\n",
        "import torchvision.datasets as datasets\n",
        "from torch.utils.data import DataLoader, random_split\n",
        "\n",
        "# Data Transformation\n",
        "transform = transforms.Compose([\n",
        "    transforms.Resize((128, 128)),\n",
        "    transforms.ToTensor(),\n",
        "])\n",
        "\n",
        "# Load Dataset (e.g., CIFAR-10)\n",
        "dataset = datasets.CIFAR10(root='./data', train=True, download=True, transform=transform)\n",
        "train_size = int(0.8 * len(dataset))\n",
        "val_size = len(dataset) - train_size\n",
        "train_dataset, val_dataset = random_split(dataset, [train_size, val_size])\n",
        "\n",
        "# DataLoader for training and validation\n",
        "train_loader = DataLoader(train_dataset, batch_size=64, shuffle=True)\n",
        "val_loader = DataLoader(val_dataset, batch_size=64, shuffle=False)"
      ],
      "metadata": {
        "id": "UXQ25XL2vZts"
      },
      "execution_count": null,
      "outputs": []
    },
    {
      "cell_type": "markdown",
      "source": [
        "## 2. Expert Model Training\n",
        "**Objective**: training a supervised model (ResNet or VGG) as the expert model to be mimicked.\n",
        "\n",
        "**Implementation Steps**:\n",
        "\n",
        "-Use torchvision.models to load pre-built models like ResNet or VGG.\n",
        "\n",
        "-Train the model on the training set using supervised learning."
      ],
      "metadata": {
        "id": "QaUV8QxfwJp8"
      }
    },
    {
      "cell_type": "markdown",
      "source": [
        "**Code Example**"
      ],
      "metadata": {
        "id": "NWpeXkKwwr3r"
      }
    },
    {
      "cell_type": "code",
      "source": [
        "import torch\n",
        "import torch.nn as nn\n",
        "import torch.optim as optim\n",
        "import torchvision.models as models\n",
        "\n",
        "# Load pre-trained ResNet model\n",
        "model = models.resnet18(pretrained=False, num_classes=10)\n",
        "criterion = nn.CrossEntropyLoss()\n",
        "optimizer = optim.Adam(model.parameters(), lr=0.001)\n",
        "\n",
        "# Training loop\n",
        "for epoch in range(10):  # Replace with your number of epochs\n",
        "    model.train()\n",
        "    running_loss = 0.0\n",
        "    for inputs, labels in train_loader:\n",
        "        optimizer.zero_grad()\n",
        "        outputs = model(inputs)\n",
        "        loss = criterion(outputs, labels)\n",
        "        loss.backward()\n",
        "        optimizer.step()\n",
        "        running_loss += loss.item()\n",
        "    print(f'Epoch {epoch+1}, Loss: {running_loss/len(train_loader)}')"
      ],
      "metadata": {
        "id": "NCsmtdMUt2pk"
      },
      "execution_count": null,
      "outputs": []
    },
    {
      "cell_type": "markdown",
      "source": [
        "## 3. GAN-based Architecture Design\n",
        "\n",
        "**Objective**: Design a generator (policy network), discriminator, and regressor.\n",
        "\n",
        "**Implementation Steps**:\n",
        "\n",
        "-Create a generator network that mimics the expert model.\n",
        "\n",
        "-Create a discriminator network that differentiates between the outputs of the generator and expert model.\n",
        "\n",
        "-Create a regressor network to evaluate the similarity between outputs."
      ],
      "metadata": {
        "id": "1wBaDmWPwy2N"
      }
    },
    {
      "cell_type": "markdown",
      "source": [
        "**Code Example**"
      ],
      "metadata": {
        "id": "5zPTWn-7xda_"
      }
    },
    {
      "cell_type": "code",
      "source": [
        "class Generator(nn.Module):\n",
        "    def __init__(self, input_dim, output_dim):\n",
        "        super(Generator, self).__init__()\n",
        "        self.model = nn.Sequential(\n",
        "            nn.Linear(input_dim, 256),\n",
        "            nn.ReLU(),\n",
        "            nn.Linear(256, 512),\n",
        "            nn.ReLU(),\n",
        "            nn.Linear(512, output_dim),\n",
        "            nn.Softmax(dim=1)\n",
        "        )\n",
        "\n",
        "    def forward(self, x):\n",
        "        return self.model(x)\n",
        "\n",
        "class Discriminator(nn.Module):\n",
        "    def __init__(self):\n",
        "        super(Discriminator, self).__init__()\n",
        "        self.model = nn.Sequential(\n",
        "            nn.Linear(10, 256),  # Adjust input size based on dataset\n",
        "            nn.ReLU(),\n",
        "            nn.Linear(256, 1),\n",
        "            nn.Sigmoid()\n",
        "        )\n",
        "\n",
        "    def forward(self, x):\n",
        "        return self.model(x)\n",
        "\n",
        "class Regressor(nn.Module):\n",
        "    def __init__(self):\n",
        "        super(Regressor, self).__init__()\n",
        "        self.model = nn.Sequential(\n",
        "            nn.Linear(10, 256),\n",
        "            nn.ReLU(),\n",
        "            nn.Linear(256, 1)\n",
        "        )\n",
        "\n",
        "    def forward(self, x):\n",
        "        return self.model(x)"
      ],
      "metadata": {
        "id": "74dK06jkyRc-"
      },
      "execution_count": null,
      "outputs": []
    },
    {
      "cell_type": "markdown",
      "source": [
        "## 4. raining Setup for the Discriminator and Regressor\n",
        "\n",
        "**Objective**: Train the discriminator and regressor to provide a reward signal for the generator.\n",
        "\n",
        "**Implementation Steps**:\n",
        "\n",
        "Use a loss function for the discriminator (e.g., binary cross-entropy) and for the regressor.\n",
        "\n",
        "Update the models in alternating training steps."
      ],
      "metadata": {
        "id": "3y1MZYxTyUHF"
      }
    },
    {
      "cell_type": "markdown",
      "source": [
        "## 5. Adversarial Training Loop\n",
        "\n",
        "**Objective**: Implement the training loop that updates the generator, discriminator, and regressor.\n"
      ],
      "metadata": {
        "id": "oIx9eGcw1NS-"
      }
    },
    {
      "cell_type": "markdown",
      "source": [
        "**Code Example:**"
      ],
      "metadata": {
        "id": "Y2KqUCAz1p_e"
      }
    },
    {
      "cell_type": "code",
      "source": [
        "# Loss functions and optimizers\n",
        "disc_criterion = nn.BCELoss()\n",
        "regressor_criterion = nn.MSELoss()\n",
        "gen_optimizer = optim.Adam(generator.parameters(), lr=0.001)\n",
        "disc_optimizer = optim.Adam(discriminator.parameters(), lr=0.001)\n",
        "regressor_optimizer = optim.Adam(regressor.parameters(), lr=0.001)\n",
        "\n",
        "# Training loop\n",
        "for epoch in range(num_epochs):\n",
        "    for real_data, _ in train_loader:\n",
        "        # Train Discriminator\n",
        "        disc_optimizer.zero_grad()\n",
        "        real_output = discriminator(real_data)\n",
        "        fake_data = generator(real_data).detach()\n",
        "        fake_output = discriminator(fake_data)\n",
        "        disc_loss = disc_criterion(real_output, torch.ones_like(real_output)) + \\\n",
        "                    disc_criterion(fake_output, torch.zeros_like(fake_output))\n",
        "        disc_loss.backward()\n",
        "        disc_optimizer.step()\n",
        "\n",
        "        # Train Regressor\n",
        "        regressor_optimizer.zero_grad()\n",
        "        reg_output = regressor(fake_data)\n",
        "        reg_loss = regressor_criterion(reg_output, similarity_metric(real_data, fake_data))\n",
        "        reg_loss.backward()\n",
        "        regressor_optimizer.step()\n",
        "\n",
        "        # Train Generator\n",
        "        gen_optimizer.zero_grad()\n",
        "        generated_data = generator(real_data)\n",
        "        gen_reward = regressor(generated_data)\n",
        "        gen_loss = -torch.mean(gen_reward)  # Maximize the reward\n",
        "        gen_loss.backward()\n",
        "        gen_optimizer.step()"
      ],
      "metadata": {
        "id": "t7aWN6QT1t4B"
      },
      "execution_count": null,
      "outputs": []
    },
    {
      "cell_type": "markdown",
      "source": [
        "## 6. Evaluation.\n",
        "\n",
        "**Objective**: Evaluate the generator's performance on unseen data and compare it to the expert model.\n",
        "\n",
        "Code Steps:\n",
        "\n",
        "-Run inference on the test set and measure accuracy and robustness.\n",
        "\n",
        "-Compare with the expert model's performance."
      ],
      "metadata": {
        "id": "jX2yXGiX1ynI"
      }
    },
    {
      "cell_type": "markdown",
      "source": [
        "**Evaluation Code:**"
      ],
      "metadata": {
        "id": "Zr3LdF7b2L_2"
      }
    },
    {
      "cell_type": "code",
      "source": [
        "model.eval()\n",
        "with torch.no_grad():\n",
        "    correct = 0\n",
        "    total = 0\n",
        "    for inputs, labels in test_loader:\n",
        "        outputs = model(inputs)\n",
        "        _, predicted = torch.max(outputs, 1)\n",
        "        total += labels.size(0)\n",
        "        correct += (predicted == labels).sum().item()\n",
        "    print(f'Accuracy: {100 * correct / total}%')"
      ],
      "metadata": {
        "id": "RbiPlT-k2Qt_"
      },
      "execution_count": null,
      "outputs": []
    },
    {
      "cell_type": "markdown",
      "source": [
        "## 7. Result Analysis\n",
        "\n",
        "-Analyze the learned reward functions by visualizing weights or intermediate activations.\n",
        "\n",
        "-Generate plots to compare generator performance with the expert model using tools like matplotlib or seaborn."
      ],
      "metadata": {
        "id": "6ZM8Ros62Xhf"
      }
    }
  ]
}