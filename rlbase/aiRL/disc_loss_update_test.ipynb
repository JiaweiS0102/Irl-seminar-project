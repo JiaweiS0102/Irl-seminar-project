{
 "cells": [
  {
   "cell_type": "code",
   "execution_count": 3,
   "metadata": {},
   "outputs": [],
   "source": [
    "import torch\n",
    "import torchvision.models as models"
   ]
  },
  {
   "cell_type": "code",
   "execution_count": 4,
   "metadata": {},
   "outputs": [
    {
     "name": "stdout",
     "output_type": "stream",
     "text": [
      "tensor(58.7440)\n",
      "tensor(58.7440)\n"
     ]
    }
   ],
   "source": [
    "torch.manual_seed(2809)\n",
    "model = models.resnet18()\n",
    "\n",
    "out_real = model(torch.randn(1, 3, 224, 224))\n",
    "out_real = out_real.mean()\n",
    "out_real.backward()\n",
    "\n",
    "out_fake = model(torch.randn(1, 3, 224, 224))\n",
    "out_fake = out_fake.mean()\n",
    "out_fake.backward(torch.ones_like(out_fake) * -1)\n",
    "\n",
    "print(model.conv1.weight.grad.abs().sum())\n",
    "\n",
    "torch.manual_seed(2809)\n",
    "model = models.resnet18()\n",
    "\n",
    "out_real = model(torch.randn(1, 3, 224, 224))\n",
    "out_real = out_real.mean()\n",
    "\n",
    "out_fake = model(torch.randn(1, 3, 224, 224))\n",
    "out_fake = out_fake.mean()\n",
    "\n",
    "loss = out_real - out_fake\n",
    "loss.backward()\n",
    "\n",
    "print(model.conv1.weight.grad.abs().sum())"
   ]
  },
  {
   "cell_type": "code",
   "execution_count": null,
   "metadata": {},
   "outputs": [],
   "source": []
  }
 ],
 "metadata": {
  "kernelspec": {
   "display_name": "Python 3",
   "language": "python",
   "name": "python3"
  },
  "language_info": {
   "codemirror_mode": {
    "name": "ipython",
    "version": 3
   },
   "file_extension": ".py",
   "mimetype": "text/x-python",
   "name": "python",
   "nbconvert_exporter": "python",
   "pygments_lexer": "ipython3",
   "version": "3.6.9"
  }
 },
 "nbformat": 4,
 "nbformat_minor": 4
}
